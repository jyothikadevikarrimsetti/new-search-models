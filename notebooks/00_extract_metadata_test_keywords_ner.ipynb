{
 "cells": [
  {
   "cell_type": "markdown",
   "id": "c3ee5555",
   "metadata": {},
   "source": [
    "# 00_extract_metadata_test_keywords_ner.ipynb\n",
    "Test metadata extraction: keywords and entities"
   ]
  },
  {
   "cell_type": "code",
   "execution_count": 1,
   "id": "03c3620d",
   "metadata": {},
   "outputs": [
    {
     "name": "stderr",
     "output_type": "stream",
     "text": [
      "c:\\Users\\91807\\Downloads\\search_models\\search_env\\lib\\site-packages\\tqdm\\auto.py:21: TqdmWarning: IProgress not found. Please update jupyter and ipywidgets. See https://ipywidgets.readthedocs.io/en/stable/user_install.html\n",
      "  from .autonotebook import tqdm as notebook_tqdm\n"
     ]
    },
    {
     "name": "stdout",
     "output_type": "stream",
     "text": [
      "🔑 Keywords: [('insurance', 0.4467), ('john', 0.361), ('accident', 0.346), ('claim', 0.3353), ('york', 0.3242), ('doe', 0.302), ('company', 0.1795), ('city', 0.1788), ('new', 0.1147), ('submitted', 0.1146)]\n"
     ]
    },
    {
     "name": "stderr",
     "output_type": "stream",
     "text": [
      "Device set to use cpu\n"
     ]
    },
    {
     "name": "stdout",
     "output_type": "stream",
     "text": [
      "🧠 Named Entities:\n",
      "{'entity_group': 'PER', 'score': np.float32(0.99723446), 'word': ' John Doe', 'start': 0, 'end': 8}\n",
      "{'entity_group': 'LOC', 'score': np.float32(0.9997701), 'word': ' New York City', 'start': 73, 'end': 86}\n"
     ]
    }
   ],
   "source": [
    "from keybert import KeyBERT\n",
    "from transformers import pipeline, AutoTokenizer, AutoModelForTokenClassification\n",
    "import re\n",
    "\n",
    "text = '''John Doe submitted a claim to the insurance company after an accident in New York City.'''\n",
    "\n",
    "# Keyword extraction\n",
    "keyword_model = KeyBERT()\n",
    "keywords = keyword_model.extract_keywords(text, top_n=10)\n",
    "print('🔑 Keywords:', keywords)\n",
    "\n",
    "# NER pipeline\n",
    "ner_pipeline = pipeline(\n",
    "    'ner',\n",
    "    model=AutoModelForTokenClassification.from_pretrained('Jean-Baptiste/roberta-large-ner-english'),\n",
    "    tokenizer=AutoTokenizer.from_pretrained('Jean-Baptiste/roberta-large-ner-english'),\n",
    "    aggregation_strategy='simple'\n",
    ")\n",
    "entities = ner_pipeline(text)\n",
    "print('🧠 Named Entities:')\n",
    "for e in entities:\n",
    "    print(e)\n"
   ]
  },
  {
   "cell_type": "code",
   "execution_count": null,
   "id": "d4251dfd",
   "metadata": {},
   "outputs": [],
   "source": []
  }
 ],
 "metadata": {
  "kernelspec": {
   "display_name": "search_env",
   "language": "python",
   "name": "python3"
  },
  "language_info": {
   "codemirror_mode": {
    "name": "ipython",
    "version": 3
   },
   "file_extension": ".py",
   "mimetype": "text/x-python",
   "name": "python",
   "nbconvert_exporter": "python",
   "pygments_lexer": "ipython3",
   "version": "3.10.5"
  }
 },
 "nbformat": 4,
 "nbformat_minor": 5
}
