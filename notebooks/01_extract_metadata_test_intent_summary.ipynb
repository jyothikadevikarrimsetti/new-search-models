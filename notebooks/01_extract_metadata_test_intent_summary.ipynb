{
 "cells": [
  {
   "cell_type": "markdown",
   "id": "e52b9361",
   "metadata": {},
   "source": [
    "# 01_extract_metadata_test_intent_summary.ipynb\n",
    "Test intent classification and summarization"
   ]
  },
  {
   "cell_type": "code",
   "execution_count": null,
   "id": "7b9f0158",
   "metadata": {},
   "outputs": [],
   "source": [
    "from sentence_transformers import SentenceTransformer, util\n",
    "from openai import AzureOpenAI\n",
    "import os\n",
    "from dotenv import load_dotenv\n",
    "load_dotenv(\"config/.env\")\n",
    "\n",
    "intent_model = SentenceTransformer(\"sentence-transformers/all-mpnet-base-v2\")\n",
    "client = AzureOpenAI(\n",
    "    api_key=os.getenv(\"AZURE_OPENAI_API_KEY\"),\n",
    "    api_version=os.getenv(\"AZURE_OPENAI_API_VERSION\"),\n",
    "    azure_endpoint=os.getenv(\"AZURE_OPENAI_ENDPOINT\")\n",
    ")\n",
    "deployment = os.getenv(\"AZURE_OPENAI_DEPLOYMENT_NAME\")\n",
    "\n",
    "# Define test text\n",
    "text = '''How can I submit a claim for health reimbursement in 2024? What are the required forms?'''\n",
    "\n",
    "# Intent examples\n",
    "intent_examples = {\n",
    "    'claim_process': [\"how to submit a claim\", \"claim reimbursement form\"],\n",
    "    'case_status': [\"check case status\", \"status of my application\"],\n",
    "    'general_info': [\"what are the office hours\", \"how to contact\"]\n",
    "}\n",
    "\n",
    "query_emb = intent_model.encode(text, convert_to_tensor=True)\n",
    "best_intent, best_score = None, 0\n",
    "for intent, examples in intent_examples.items():\n",
    "    ex_embs = intent_model.encode(examples, convert_to_tensor=True)\n",
    "    score = util.pytorch_cos_sim(query_emb, ex_embs).max().item()\n",
    "    if score > best_score:\n",
    "        best_score = score\n",
    "        best_intent = intent\n",
    "print(f\"📌 Detected Intent: {best_intent} (Score: {best_score:.2f})\")\n",
    "\n",
    "# Summary generation\n",
    "summary_prompt = f\"Summarize the following in 1-2 lines: {text}\"\n",
    "summary = client.chat.completions.create(\n",
    "    model=deployment,\n",
    "    messages=[{\"role\": \"user\", \"content\": summary_prompt}],\n",
    "    max_tokens=100\n",
    ")\n",
    "print(\"📝 Summary:\", summary.choices[0].message.content.strip())"
   ]
  }
 ],
 "metadata": {},
 "nbformat": 4,
 "nbformat_minor": 5
}
