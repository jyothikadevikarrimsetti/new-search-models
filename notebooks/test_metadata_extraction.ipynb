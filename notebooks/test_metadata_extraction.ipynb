{
 "cells": [
  {
   "cell_type": "markdown",
   "id": "a09ded39",
   "metadata": {},
   "source": [
    "# 🔍 Metadata Extraction Test Notebook\n",
    "This notebook helps you test the `extract_metadata()` pipeline using a custom text chunk input.\n",
    "\n",
    "You can modify the `text` variable in the next cell to test different examples."
   ]
  },
  {
   "cell_type": "code",
   "execution_count": 3,
   "id": "68df9c28",
   "metadata": {},
   "outputs": [
    {
     "name": "stdout",
     "output_type": "stream",
     "text": [
      "✅ Sample Text Loaded\n"
     ]
    }
   ],
   "source": [
    "text = '''John Doe submitted a claim to the insurance company after an accident in New York City.'''\n",
    "print('✅ Sample Text Loaded')"
   ]
  },
  {
   "cell_type": "code",
   "execution_count": 4,
   "id": "60d5d43e",
   "metadata": {},
   "outputs": [
    {
     "ename": "ModuleNotFoundError",
     "evalue": "No module named 'scripts.entity_utils'",
     "output_type": "error",
     "traceback": [
      "\u001b[1;31m---------------------------------------------------------------------------\u001b[0m",
      "\u001b[1;31mModuleNotFoundError\u001b[0m                       Traceback (most recent call last)",
      "Cell \u001b[1;32mIn[4], line 4\u001b[0m\n\u001b[0;32m      2\u001b[0m \u001b[38;5;28;01mimport\u001b[39;00m\u001b[38;5;250m \u001b[39m\u001b[38;5;21;01mos\u001b[39;00m\u001b[38;5;241m,\u001b[39m\u001b[38;5;250m \u001b[39m\u001b[38;5;21;01mjson\u001b[39;00m\u001b[38;5;241m,\u001b[39m\u001b[38;5;250m \u001b[39m\u001b[38;5;21;01myaml\u001b[39;00m\n\u001b[0;32m      3\u001b[0m \u001b[38;5;28;01mfrom\u001b[39;00m\u001b[38;5;250m \u001b[39m\u001b[38;5;21;01mdotenv\u001b[39;00m\u001b[38;5;250m \u001b[39m\u001b[38;5;28;01mimport\u001b[39;00m load_dotenv\n\u001b[1;32m----> 4\u001b[0m \u001b[38;5;28;01mfrom\u001b[39;00m\u001b[38;5;250m \u001b[39m\u001b[38;5;21;01mscripts\u001b[39;00m\u001b[38;5;21;01m.\u001b[39;00m\u001b[38;5;21;01mentity_utils\u001b[39;00m\u001b[38;5;250m \u001b[39m\u001b[38;5;28;01mimport\u001b[39;00m normalize_entity, get_spacy_nlp\n\u001b[0;32m      5\u001b[0m \u001b[38;5;28;01mfrom\u001b[39;00m\u001b[38;5;250m \u001b[39m\u001b[38;5;21;01mscripts\u001b[39;00m\u001b[38;5;21;01m.\u001b[39;00m\u001b[38;5;21;01msearch_pipeline\u001b[39;00m\u001b[38;5;250m \u001b[39m\u001b[38;5;28;01mimport\u001b[39;00m get_openai_embedding\n\u001b[0;32m      6\u001b[0m \u001b[38;5;28;01mfrom\u001b[39;00m\u001b[38;5;250m \u001b[39m\u001b[38;5;21;01mscripts\u001b[39;00m\u001b[38;5;21;01m.\u001b[39;00m\u001b[38;5;21;01mintent_utils\u001b[39;00m\u001b[38;5;250m \u001b[39m\u001b[38;5;28;01mimport\u001b[39;00m get_intent\n",
      "\u001b[1;31mModuleNotFoundError\u001b[0m: No module named 'scripts.entity_utils'"
     ]
    }
   ],
   "source": [
    "# Required imports from your local scripts\n",
    "import os, json, yaml\n",
    "from dotenv import load_dotenv\n",
    "from scripts.entity_utils import normalize_entity, get_spacy_nlp\n",
    "from scripts.search_pipeline import get_openai_embedding\n",
    "from scripts.intent_utils import get_intent\n",
    "from scripts.metadata import extract_metadata  # <-- You must have your full extraction code in this file\n",
    "load_dotenv('config/.env')"
   ]
  },
  {
   "cell_type": "code",
   "execution_count": null,
   "id": "29006c5d",
   "metadata": {},
   "outputs": [],
   "source": [
    "metadata = extract_metadata(text)\n",
    "metadata"
   ]
  },
  {
   "cell_type": "code",
   "execution_count": null,
   "id": "7b04ab4b",
   "metadata": {},
   "outputs": [],
   "source": [
    "from pprint import pprint\n",
    "print('✅ Extracted Metadata:')\n",
    "pprint(metadata)"
   ]
  }
 ],
 "metadata": {
  "kernelspec": {
   "display_name": "search_env",
   "language": "python",
   "name": "python3"
  },
  "language_info": {
   "codemirror_mode": {
    "name": "ipython",
    "version": 3
   },
   "file_extension": ".py",
   "mimetype": "text/x-python",
   "name": "python",
   "nbconvert_exporter": "python",
   "pygments_lexer": "ipython3",
   "version": "3.10.5"
  }
 },
 "nbformat": 4,
 "nbformat_minor": 5
}
